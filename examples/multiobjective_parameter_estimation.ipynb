{
 "cells": [
  {
   "cell_type": "code",
   "execution_count": 2,
   "metadata": {},
   "outputs": [
    {
     "ename": "ModuleNotFoundError",
     "evalue": "No module named 'sysidentpy'",
     "output_type": "error",
     "traceback": [
      "\u001B[1;31m---------------------------------------------------------------------------\u001B[0m",
      "\u001B[1;31mModuleNotFoundError\u001B[0m                       Traceback (most recent call last)",
      "Cell \u001B[1;32mIn[2], line 1\u001B[0m\n\u001B[1;32m----> 1\u001B[0m \u001B[39mimport\u001B[39;00m \u001B[39msysidentpy\u001B[39;00m\n",
      "\u001B[1;31mModuleNotFoundError\u001B[0m: No module named 'sysidentpy'"
     ]
    }
   ],
   "source": [
    "import sysidentpy\n"
   ]
  },
  {
   "attachments": {},
   "cell_type": "markdown",
   "metadata": {},
   "source": [
    "# Example: Buck converter\n",
    "\n",
    "Example created by Gabriel Bueno Leandro"
   ]
  },
  {
   "attachments": {},
   "cell_type": "markdown",
   "metadata": {},
   "source": [
    "## Reference \n",
    "\n",
    "**The following text was taken from the link https://www.researchgate.net/publication/216771768_Multiobjective_parameter_estimation_for_nonlinear_systems_Affine_information_and_least-squares_formulation**. \n",
    "\n"
   ]
  },
  {
   "cell_type": "code",
   "execution_count": 2,
   "metadata": {},
   "outputs": [
    {
     "ename": "ModuleNotFoundError",
     "evalue": "No module named 'sysidentpy'",
     "output_type": "error",
     "traceback": [
      "\u001B[1;31m---------------------------------------------------------------------------\u001B[0m",
      "\u001B[1;31mModuleNotFoundError\u001B[0m                       Traceback (most recent call last)",
      "Cell \u001B[1;32mIn[2], line 5\u001B[0m\n\u001B[0;32m      3\u001B[0m \u001B[39mimport\u001B[39;00m \u001B[39mmatplotlib\u001B[39;00m\u001B[39m.\u001B[39;00m\u001B[39mpyplot\u001B[39;00m \u001B[39mas\u001B[39;00m \u001B[39mplt\u001B[39;00m\n\u001B[0;32m      4\u001B[0m \u001B[39mimport\u001B[39;00m \u001B[39mpandas\u001B[39;00m \u001B[39mas\u001B[39;00m \u001B[39mpd\u001B[39;00m \n\u001B[1;32m----> 5\u001B[0m \u001B[39mfrom\u001B[39;00m \u001B[39msysidentpy\u001B[39;00m\u001B[39m.\u001B[39;00m\u001B[39mmodel_structure_selection\u001B[39;00m \u001B[39mimport\u001B[39;00m FROLS\n\u001B[0;32m      6\u001B[0m \u001B[39mfrom\u001B[39;00m \u001B[39msysidentpy\u001B[39;00m\u001B[39m.\u001B[39;00m\u001B[39mmultiobjective\u001B[39;00m\u001B[39m.\u001B[39;00m\u001B[39mmultiobjective_parameter_estimation\u001B[39;00m \u001B[39mimport\u001B[39;00m IM\n\u001B[0;32m      7\u001B[0m \u001B[39mfrom\u001B[39;00m \u001B[39msysidentpy\u001B[39;00m\u001B[39m.\u001B[39;00m\u001B[39mbasis_function\u001B[39;00m\u001B[39m.\u001B[39;00m\u001B[39m_basis_function\u001B[39;00m \u001B[39mimport\u001B[39;00m Polynomial\n",
      "\u001B[1;31mModuleNotFoundError\u001B[0m: No module named 'sysidentpy'"
     ]
    }
   ],
   "source": [
    "# Importing the libraries and methods needed to run the notebook.\n",
    "import numpy as np\n",
    "import matplotlib.pyplot as plt\n",
    "import pandas as pd \n",
    "from sysidentpy.model_structure_selection import FROLS\n",
    "from sysidentpy.multiobjective.multiobjective_parameter_estimation import IM\n",
    "from sysidentpy.basis_function._basis_function import Polynomial\n",
    "from sysidentpy.utils.display_results import results\n",
    "from sysidentpy.utils.plotting import plot_results\n",
    "from sysidentpy.metrics import root_relative_squared_error"
   ]
  },
  {
   "attachments": {},
   "cell_type": "markdown",
   "metadata": {},
   "source": [
    "# Dynamic Behavior"
   ]
  },
  {
   "cell_type": "code",
   "execution_count": null,
   "metadata": {},
   "outputs": [
    {
     "ename": "",
     "evalue": "",
     "output_type": "error",
     "traceback": [
      "\u001B[1;31mA execução de células com 'c:\\Users\\55359\\OneDrive\\Área de Trabalho\\Clone_git\\sysidentpy\\.conda\\python.exe' requer o pacote ipykernel.\n",
      "\u001B[1;31mRun the following command to install 'ipykernel' into the Python environment. \n",
      "\u001B[1;31mCommand: 'conda install -p c:\\Users\\55359\\OneDrive\\Área de Trabalho\\Clone_git\\sysidentpy\\.conda ipykernel --update-deps --force-reinstall'"
     ]
    }
   ],
   "source": [
    "# Reading Buck's input and output data\n",
    "data_train = pd.read_csv(r'datasets/buck.txt' , sep=\" \", header=None).to_numpy()\n",
    "data_valid = pd.read_csv(\"datasets/buck_val.txt\" , sep =\" \", header=None).to_numpy()\n",
    "\n",
    "# Separating the identification data\n",
    "data_samples_train = data_train[:, 2]\n",
    "data_out_train = data_train[:, 6]\n",
    "data_int_train = data_train[:, 4]\n",
    "\n",
    "# Separating the validation data\n",
    "data_samples_valid = data_valid[:, 2]\n",
    "data_out_valid = data_valid[:, 6]\n",
    "data_int_valid = data_valid[:, 4]\n",
    "\n",
    "# Plotting the measured output (identification and validation data)\n",
    "plt.figure(1)\n",
    "plt.title('Output')\n",
    "plt.plot(data_samples_train, data_out_train, label='Identification', linewidth=1.5)\n",
    "plt.plot(data_samples_valid, data_out_valid , label='Validation', linewidth=1.5)\n",
    "plt.xlabel('Samples')\n",
    "plt.ylabel('y')\n",
    "plt.legend()\n",
    "plt.show()\n"
   ]
  },
  {
   "cell_type": "code",
   "execution_count": null,
   "metadata": {},
   "outputs": [
    {
     "ename": "",
     "evalue": "",
     "output_type": "error",
     "traceback": [
      "\u001B[1;31mA execução de células com 'c:\\Users\\55359\\OneDrive\\Área de Trabalho\\Clone_git\\sysidentpy\\.conda\\python.exe' requer o pacote ipykernel.\n",
      "\u001B[1;31mRun the following command to install 'ipykernel' into the Python environment. \n",
      "\u001B[1;31mCommand: 'conda install -p c:\\Users\\55359\\OneDrive\\Área de Trabalho\\Clone_git\\sysidentpy\\.conda ipykernel --update-deps --force-reinstall'"
     ]
    }
   ],
   "source": [
    "# Plotting the measured input(identification and validation data)\n",
    "plt.figure(2)\n",
    "plt.title('Input')\n",
    "plt.plot(data_samples_train, data_int_train, label='Identification', linewidth=1.5)\n",
    "plt.plot(data_samples_valid, data_int_valid, label='Validation', linewidth=1.5)\n",
    "plt.ylim(2.1, 2.6)\n",
    "plt.ylabel('u')\n",
    "plt.xlabel('Samples')\n",
    "plt.legend()\n",
    "plt.show()"
   ]
  },
  {
   "attachments": {},
   "cell_type": "markdown",
   "metadata": {},
   "source": [
    "## Buck Converter Static Function\n",
    "\n",
    "The duty cycle is defined by $D=\\frac{T_{on}}{T}$ and its complement is $D'=\\frac{T_{off}}{T}$ , where T is the operation cycle. The load voltage $V_o$ relates to the source voltage $V_d$ as $V_o = D\\cdot V_d = (1 − D’)\\cdot V_d$. This converter satisfies $D' = \\frac{\\bar{u}-1}{3}$ and therefore the static function of this system is known from theory to be:\n",
    "$$\n",
    "V_o = \\frac{4V_d}{3} - \\frac{V_d}{3}\\cdot \\bar{u}\n",
    "$$\n",
    "\n",
    "assuming $V_d = 24\\:V $, the expression can be rewritten as follows:\n",
    "\n",
    "$$\n",
    "V_o = (4 - \\bar{u})\\cdot 8\n",
    "$$"
   ]
  },
  {
   "cell_type": "code",
   "execution_count": null,
   "metadata": {},
   "outputs": [
    {
     "ename": "",
     "evalue": "",
     "output_type": "error",
     "traceback": [
      "\u001B[1;31mA execução de células com 'c:\\Users\\55359\\OneDrive\\Área de Trabalho\\Clone_git\\sysidentpy\\.conda\\python.exe' requer o pacote ipykernel.\n",
      "\u001B[1;31mRun the following command to install 'ipykernel' into the Python environment. \n",
      "\u001B[1;31mCommand: 'conda install -p c:\\Users\\55359\\OneDrive\\Área de Trabalho\\Clone_git\\sysidentpy\\.conda ipykernel --update-deps --force-reinstall'"
     ]
    }
   ],
   "source": [
    "# Static data\n",
    "Vd = 24\n",
    "Yo = np.zeros(30)\n",
    "Uo = np.zeros(30)\n",
    "for t in range(10, 40):\n",
    "    Uo[t-10] = (t)/10\n",
    "    Yo[t-10] = (4-Uo[t-10])*Vd/3\n",
    "Uo = Uo.reshape(-1, 1)\n",
    "Yo = Yo.reshape(-1, 1)\n",
    "plt.figure(3)\n",
    "plt.title('Buck Converter Static Function')\n",
    "plt.xlabel('$\\\\bar{u}$')\n",
    "plt.ylabel('$\\\\bar{y}$')\n",
    "plt.plot(Uo, Yo, linewidth=1.5, linestyle='-', marker='o')\n",
    "plt.show()"
   ]
  },
  {
   "attachments": {},
   "cell_type": "markdown",
   "metadata": {},
   "source": [
    "# Buck converter static gain\n",
    "\n",
    "The gain of the Buck converter can be described as the derivative of the static function, which is described by:\n",
    "\n",
    "$$\n",
    "V_o = (4 - \\bar{u})\\cdot 8\n",
    "$$\n",
    "\n",
    "soon $gain=V_o'=-8$\n"
   ]
  },
  {
   "cell_type": "code",
   "execution_count": null,
   "metadata": {},
   "outputs": [
    {
     "ename": "",
     "evalue": "",
     "output_type": "error",
     "traceback": [
      "\u001B[1;31mA execução de células com 'c:\\Users\\55359\\OneDrive\\Área de Trabalho\\Clone_git\\sysidentpy\\.conda\\python.exe' requer o pacote ipykernel.\n",
      "\u001B[1;31mRun the following command to install 'ipykernel' into the Python environment. \n",
      "\u001B[1;31mCommand: 'conda install -p c:\\Users\\55359\\OneDrive\\Área de Trabalho\\Clone_git\\sysidentpy\\.conda ipykernel --update-deps --force-reinstall'"
     ]
    }
   ],
   "source": [
    "# Definindo o ganho\n",
    "gain = -8*np.ones(len(Uo)).reshape(-1, 1)\n",
    "plt.figure(3)\n",
    "plt.title('Ganho do Conversor Estático')\n",
    "plt.xlabel('$\\\\bar{u}$')\n",
    "plt.ylabel('$\\\\bar{gain}$')\n",
    "plt.plot(Uo, gain, linewidth=1.5, label='gain', linestyle='-', marker='o')\n",
    "plt.legend()\n",
    "plt.show()"
   ]
  },
  {
   "attachments": {},
   "cell_type": "markdown",
   "metadata": {},
   "source": [
    "Information about static function and static gain, together with the usual input/output data, have been used as sources of affine information to estimate the parameters of the model. The composite cost function is:\n",
    "\n",
    "$$\n",
    "\\gamma(\\hat\\theta) = w_1\\cdot J_{LS}(\\hat{\\theta})+w_2\\cdot J_{SF}(\\hat{\\theta})+w_3\\cdot J_{SG}(\\hat{\\theta})\n",
    "$$\n"
   ]
  },
  {
   "cell_type": "code",
   "execution_count": null,
   "metadata": {},
   "outputs": [
    {
     "ename": "",
     "evalue": "",
     "output_type": "error",
     "traceback": [
      "\u001B[1;31mA execução de células com 'c:\\Users\\55359\\OneDrive\\Área de Trabalho\\Clone_git\\sysidentpy\\.conda\\python.exe' requer o pacote ipykernel.\n",
      "\u001B[1;31mRun the following command to install 'ipykernel' into the Python environment. \n",
      "\u001B[1;31mCommand: 'conda install -p c:\\Users\\55359\\OneDrive\\Área de Trabalho\\Clone_git\\sysidentpy\\.conda ipykernel --update-deps --force-reinstall'"
     ]
    }
   ],
   "source": [
    "# Informing test and validation data\n",
    "x_train = data_int_train.reshape(-1, 1)\n",
    "y_train = data_out_train.reshape(-1, 1)\n",
    "x_valid = data_int_valid.reshape(-1, 1)\n",
    "y_valid = data_out_valid.reshape(-1, 1)\n",
    "\n",
    "basis_function = Polynomial(degree=2)\n",
    "\n",
    "model = FROLS(\n",
    "    order_selection=True,\n",
    "    n_info_values=10,\n",
    "    extended_least_squares=False,\n",
    "    ylag=2, xlag=2,\n",
    "    info_criteria='aic',\n",
    "    estimator='least_squares',\n",
    "    basis_function=basis_function\n",
    ")\n",
    "\n",
    "model.fit(X=x_train, y=y_train)"
   ]
  },
  {
   "attachments": {},
   "cell_type": "markdown",
   "metadata": {},
   "source": [
    "The next step will be to determine the weights of the objectives of interest:"
   ]
  },
  {
   "cell_type": "code",
   "execution_count": null,
   "metadata": {},
   "outputs": [
    {
     "ename": "",
     "evalue": "",
     "output_type": "error",
     "traceback": [
      "\u001B[1;31mA execução de células com 'c:\\Users\\55359\\OneDrive\\Área de Trabalho\\Clone_git\\sysidentpy\\.conda\\python.exe' requer o pacote ipykernel.\n",
      "\u001B[1;31mRun the following command to install 'ipykernel' into the Python environment. \n",
      "\u001B[1;31mCommand: 'conda install -p c:\\Users\\55359\\OneDrive\\Área de Trabalho\\Clone_git\\sysidentpy\\.conda ipykernel --update-deps --force-reinstall'"
     ]
    }
   ],
   "source": [
    "# Matrix with the weights.\n",
    "W = np.array([[0.98, 0.7, 0.5, 0.35, 0.25, 0.01, 0.15, 0.01],\n",
    "              [0.01, 0.1, 0.3, 0.15, 0.25, 0.98, 0.35, 0.01],\n",
    "              [0.01, 0.2, 0.2, 0.50, 0.50, 0.01, 0.50, 0.98]])"
   ]
  },
  {
   "attachments": {},
   "cell_type": "markdown",
   "metadata": {},
   "source": [
    "\n",
    "with the parameters all in hand, we can already calculate the parameters in a multiobjective way:"
   ]
  },
  {
   "cell_type": "code",
   "execution_count": null,
   "metadata": {},
   "outputs": [
    {
     "ename": "",
     "evalue": "",
     "output_type": "error",
     "traceback": [
      "\u001B[1;31mA execução de células com 'c:\\Users\\55359\\OneDrive\\Área de Trabalho\\Clone_git\\sysidentpy\\.conda\\python.exe' requer o pacote ipykernel.\n",
      "\u001B[1;31mRun the following command to install 'ipykernel' into the Python environment. \n",
      "\u001B[1;31mCommand: 'conda install -p c:\\Users\\55359\\OneDrive\\Área de Trabalho\\Clone_git\\sysidentpy\\.conda ipykernel --update-deps --force-reinstall'"
     ]
    }
   ],
   "source": [
    "# Calling the class referring to the calculation of the parameters via the multiobjective technique\n",
    "g = IM(y_train=y_train[2:],\n",
    "       gain=gain,y_static=Yo,\n",
    "       x_static=Uo, psi=model.psi,\n",
    "       n_inputs=model._n_inputs,\n",
    "       non_degree=model.non_degree,\n",
    "       model_type=model.model_type,\n",
    "       final_model = model.final_model, W=P)\n"
   ]
  },
  {
   "attachments": {},
   "cell_type": "markdown",
   "metadata": {},
   "source": [
    "now the method will be called to calculate the matrix of the performance of the objectives (J), weights (w), the Euclidean norm (E), the thetas referring to each weight (Theta), matrix H multiplied by R and the matrix Q multiplied by R.\n"
   ]
  },
  {
   "cell_type": "code",
   "execution_count": null,
   "metadata": {},
   "outputs": [
    {
     "ename": "",
     "evalue": "",
     "output_type": "error",
     "traceback": [
      "\u001B[1;31mA execução de células com 'c:\\Users\\55359\\OneDrive\\Área de Trabalho\\Clone_git\\sysidentpy\\.conda\\python.exe' requer o pacote ipykernel.\n",
      "\u001B[1;31mRun the following command to install 'ipykernel' into the Python environment. \n",
      "\u001B[1;31mCommand: 'conda install -p c:\\Users\\55359\\OneDrive\\Área de Trabalho\\Clone_git\\sysidentpy\\.conda ipykernel --update-deps --force-reinstall'"
     ]
    }
   ],
   "source": [
    "# Method to calculate the parameters\n",
    "J, w, E, Theta, HR, QR = g.affine_information_least_squares()\n",
    "result = {'w1': w[0,:],\n",
    "          'w2': w[2,:],\n",
    "          'w3': w[1,:],\n",
    "          'J_ls': J[0,:],\n",
    "          'J_sg': J[1,:],\n",
    "          'J_sf': J[2,:],\n",
    "          '||J||:': E}\n",
    "pd.DataFrame(result)"
   ]
  },
  {
   "attachments": {},
   "cell_type": "markdown",
   "metadata": {},
   "source": [
    "now we can choose a theta value referring to the weights:"
   ]
  },
  {
   "cell_type": "code",
   "execution_count": null,
   "metadata": {},
   "outputs": [
    {
     "ename": "",
     "evalue": "",
     "output_type": "error",
     "traceback": [
      "\u001B[1;31mA execução de células com 'c:\\Users\\55359\\OneDrive\\Área de Trabalho\\Clone_git\\sysidentpy\\.conda\\python.exe' requer o pacote ipykernel.\n",
      "\u001B[1;31mRun the following command to install 'ipykernel' into the Python environment. \n",
      "\u001B[1;31mCommand: 'conda install -p c:\\Users\\55359\\OneDrive\\Área de Trabalho\\Clone_git\\sysidentpy\\.conda ipykernel --update-deps --force-reinstall'"
     ]
    }
   ],
   "source": [
    "# Writing the results\n",
    "model.theta = Theta[0, :].reshape(-1,1)\n",
    "yhat = model.predict(X=x_valid, y=y_valid)\n",
    "rrse = root_relative_squared_error(y_valid, yhat)\n",
    "r = pd.DataFrame(\n",
    "    results(\n",
    "        model.final_model, model.theta, model.err,\n",
    "        model.n_terms, err_precision=3, dtype='sci'\n",
    "        ),\n",
    "    columns=['Regressors', 'Parameters', 'ERR'])\n",
    "r"
   ]
  },
  {
   "attachments": {},
   "cell_type": "markdown",
   "metadata": {},
   "source": [
    "dynamic data in graphical form:"
   ]
  },
  {
   "cell_type": "code",
   "execution_count": null,
   "metadata": {},
   "outputs": [
    {
     "ename": "",
     "evalue": "",
     "output_type": "error",
     "traceback": [
      "\u001B[1;31mA execução de células com 'c:\\Users\\55359\\OneDrive\\Área de Trabalho\\Clone_git\\sysidentpy\\.conda\\python.exe' requer o pacote ipykernel.\n",
      "\u001B[1;31mRun the following command to install 'ipykernel' into the Python environment. \n",
      "\u001B[1;31mCommand: 'conda install -p c:\\Users\\55359\\OneDrive\\Área de Trabalho\\Clone_git\\sysidentpy\\.conda ipykernel --update-deps --force-reinstall'"
     ]
    }
   ],
   "source": [
    "plot_results(y=y_valid, yhat=yhat, n=1000)"
   ]
  },
  {
   "attachments": {},
   "cell_type": "markdown",
   "metadata": {},
   "source": [
    "the static gain graphically:"
   ]
  },
  {
   "cell_type": "code",
   "execution_count": null,
   "metadata": {},
   "outputs": [
    {
     "ename": "",
     "evalue": "",
     "output_type": "error",
     "traceback": [
      "\u001B[1;31mA execução de células com 'c:\\Users\\55359\\OneDrive\\Área de Trabalho\\Clone_git\\sysidentpy\\.conda\\python.exe' requer o pacote ipykernel.\n",
      "\u001B[1;31mRun the following command to install 'ipykernel' into the Python environment. \n",
      "\u001B[1;31mCommand: 'conda install -p c:\\Users\\55359\\OneDrive\\Área de Trabalho\\Clone_git\\sysidentpy\\.conda ipykernel --update-deps --force-reinstall'"
     ]
    }
   ],
   "source": [
    "plt.figure(4)\n",
    "plt.title('Gain')\n",
    "plt.plot(Uo, gain, linewidth=1.5, linestyle='-', marker='o', label='Buck converter static gain')\n",
    "plt.plot(Uo, HR.dot(model.theta),  linestyle='-', marker='^', linewidth=1.5, label='NARX model gain')\n",
    "plt.xlabel('$\\\\bar{u}$')\n",
    "plt.ylabel('$\\\\bar{g}$')\n",
    "plt.legend()\n",
    "plt.show()"
   ]
  },
  {
   "attachments": {},
   "cell_type": "markdown",
   "metadata": {},
   "source": [
    "the static function graphically:"
   ]
  },
  {
   "cell_type": "code",
   "execution_count": null,
   "metadata": {},
   "outputs": [
    {
     "ename": "",
     "evalue": "",
     "output_type": "error",
     "traceback": [
      "\u001B[1;31mA execução de células com 'c:\\Users\\55359\\OneDrive\\Área de Trabalho\\Clone_git\\sysidentpy\\.conda\\python.exe' requer o pacote ipykernel.\n",
      "\u001B[1;31mRun the following command to install 'ipykernel' into the Python environment. \n",
      "\u001B[1;31mCommand: 'conda install -p c:\\Users\\55359\\OneDrive\\Área de Trabalho\\Clone_git\\sysidentpy\\.conda ipykernel --update-deps --force-reinstall'"
     ]
    }
   ],
   "source": [
    "plt.figure(5)\n",
    "plt.title('Static Curve')\n",
    "plt.plot(Uo, Yo, linewidth=1.5, label='Static curve',  linestyle='-', marker='o')\n",
    "plt.plot(Uo, QR.dot(model.theta), linewidth=1.5, label='NARX ​​static representation', linestyle='-', marker='^')\n",
    "plt.xlabel('$\\\\bar{u}$')\n",
    "plt.xlabel('$\\\\bar{y}$')\n",
    "plt.legend()\n",
    "plt.show()"
   ]
  },
  {
   "attachments": {},
   "cell_type": "markdown",
   "metadata": {},
   "source": [
    "pareto-optimal curve:"
   ]
  },
  {
   "cell_type": "code",
   "execution_count": null,
   "metadata": {},
   "outputs": [
    {
     "ename": "",
     "evalue": "",
     "output_type": "error",
     "traceback": [
      "\u001B[1;31mA execução de células com 'c:\\Users\\55359\\OneDrive\\Área de Trabalho\\Clone_git\\sysidentpy\\.conda\\python.exe' requer o pacote ipykernel.\n",
      "\u001B[1;31mRun the following command to install 'ipykernel' into the Python environment. \n",
      "\u001B[1;31mCommand: 'conda install -p c:\\Users\\55359\\OneDrive\\Área de Trabalho\\Clone_git\\sysidentpy\\.conda ipykernel --update-deps --force-reinstall'"
     ]
    }
   ],
   "source": [
    "plt.figure(6)\n",
    "ax = plt.axes(projection='3d')\n",
    "ax.plot3D( J[0,:],  J[1,:],  J[2,:], 'o', linewidth=2)\n",
    "ax.set_title('Optimum pareto-curve', fontsize=10)\n",
    "ax.set_xlabel('$J_{ls}$', fontsize=10)\n",
    "ax.set_ylabel('$J_{sg}$', fontsize=10)\n",
    "ax.set_zlabel('$J_{sf}$', fontsize=10)\n",
    "plt.show()"
   ]
  },
  {
   "cell_type": "code",
   "execution_count": null,
   "metadata": {},
   "outputs": [
    {
     "ename": "",
     "evalue": "",
     "output_type": "error",
     "traceback": [
      "\u001B[1;31mA execução de células com 'c:\\Users\\55359\\OneDrive\\Área de Trabalho\\Clone_git\\sysidentpy\\.conda\\python.exe' requer o pacote ipykernel.\n",
      "\u001B[1;31mRun the following command to install 'ipykernel' into the Python environment. \n",
      "\u001B[1;31mCommand: 'conda install -p c:\\Users\\55359\\OneDrive\\Área de Trabalho\\Clone_git\\sysidentpy\\.conda ipykernel --update-deps --force-reinstall'"
     ]
    }
   ],
   "source": [
    "w"
   ]
  }
 ],
 "metadata": {
  "kernelspec": {
   "display_name": "'gabriel'",
   "language": "python",
   "name": "python3"
  },
  "language_info": {
   "codemirror_mode": {
    "name": "ipython",
    "version": 3
   },
   "file_extension": ".py",
   "mimetype": "text/x-python",
   "name": "python",
   "nbconvert_exporter": "python",
   "pygments_lexer": "ipython3",
   "version": "3.11.3"
  },
  "orig_nbformat": 4,
  "vscode": {
   "interpreter": {
    "hash": "e03fe37868962894ce69ba1512be75d7d9445f7474f41c85c2a9ae3e524aa256"
   }
  }
 },
 "nbformat": 4,
 "nbformat_minor": 2
}
